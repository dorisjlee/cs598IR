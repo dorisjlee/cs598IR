{
 "cells": [
  {
   "cell_type": "code",
   "execution_count": 1,
   "metadata": {
    "collapsed": false
   },
   "outputs": [
    {
     "name": "stdout",
     "output_type": "stream",
     "text": [
      "Populating the interactive namespace from numpy and matplotlib\n"
     ]
    }
   ],
   "source": [
    "%pylab inline"
   ]
  },
  {
   "cell_type": "code",
   "execution_count": 2,
   "metadata": {
    "collapsed": false
   },
   "outputs": [],
   "source": [
    "df = open(\"cacm.trec.filtered.txt\")\n",
    "data = df.readlines()"
   ]
  },
  {
   "cell_type": "code",
   "execution_count": 3,
   "metadata": {
    "collapsed": false
   },
   "outputs": [],
   "source": [
    "corpus = [_.split() for _ in data]"
   ]
  },
  {
   "cell_type": "code",
   "execution_count": 4,
   "metadata": {
    "collapsed": false
   },
   "outputs": [],
   "source": [
    "wordlist = unique(list(flatten([_.split() for _ in data])))"
   ]
  },
  {
   "cell_type": "markdown",
   "metadata": {},
   "source": [
    "total of 88700 words and 1845 unique words"
   ]
  },
  {
   "cell_type": "code",
   "execution_count": 6,
   "metadata": {
    "collapsed": true
   },
   "outputs": [],
   "source": [
    "import itertools\n",
    "all_word_combos = list(itertools.combinations(wordlist,2))"
   ]
  },
  {
   "cell_type": "code",
   "execution_count": 7,
   "metadata": {
    "collapsed": false
   },
   "outputs": [
    {
     "name": "stderr",
     "output_type": "stream",
     "text": []
    }
   ],
   "source": [
    "from tqdm import tqdm\n",
    "dict_counts ={}\n",
    "for wordpair in tqdm(all_word_combos):\n",
    "    for doc in corpus:\n",
    "        if (wordpair[0]  in doc and wordpair[1] in doc ):\n",
    "            if wordpair in dict_counts:\n",
    "                dict_counts[wordpair]+=1\n",
    "            else:\n",
    "                dict_counts[wordpair]=1"
   ]
  },
  {
   "cell_type": "code",
   "execution_count": 8,
   "metadata": {
    "collapsed": false
   },
   "outputs": [],
   "source": [
    "top10keys = sorted(dict_counts, key=dict_counts.get, reverse=True)[:10]"
   ]
  },
  {
   "cell_type": "code",
   "execution_count": 18,
   "metadata": {
    "collapsed": false
   },
   "outputs": [
    {
     "name": "stdout",
     "output_type": "stream",
     "text": [
      "('january', 'paper'):181\n",
      "('language', 'programming'):153\n",
      "('january', 'time'):150\n",
      "('january', 'program'):149\n",
      "('january', 'systems'):149\n",
      "('data', 'january'):142\n",
      "('january', 'presented'):141\n",
      "('january', 'programming'):139\n",
      "('program', 'programs'):133\n",
      "('january', 'method'):125\n"
     ]
    }
   ],
   "source": [
    "for i in top10keys:\n",
    "    print str(i) +\":\"+ str(dict_counts[i])"
   ]
  },
  {
   "cell_type": "markdown",
   "metadata": {},
   "source": [
    "# 3c) Mutual information"
   ]
  },
  {
   "cell_type": "code",
   "execution_count": 9,
   "metadata": {
    "collapsed": false
   },
   "outputs": [],
   "source": [
    "X  = wordpair[0]\n",
    "Y  = wordpair[1]"
   ]
  },
  {
   "cell_type": "code",
   "execution_count": 10,
   "metadata": {
    "collapsed": false
   },
   "outputs": [],
   "source": [
    "all_words = list(flatten([_.split() for _ in data]))"
   ]
  },
  {
   "cell_type": "markdown",
   "metadata": {},
   "source": [
    "$$I(X;Y) = \\sum_{x,y} p(x,y) log\\frac{p(x,y)}{p(x)p(y)}$$"
   ]
  },
  {
   "cell_type": "code",
   "execution_count": 11,
   "metadata": {
    "collapsed": false
   },
   "outputs": [],
   "source": [
    "def p(x):\n",
    "    return (all_words.count(X)+0.5)/(len(all_words)+1.)"
   ]
  },
  {
   "cell_type": "code",
   "execution_count": 12,
   "metadata": {
    "collapsed": false
   },
   "outputs": [
    {
     "data": {
      "text/plain": [
       "4.3499716321668095e-08"
      ]
     },
     "execution_count": 12,
     "metadata": {},
     "output_type": "execute_result"
    }
   ],
   "source": [
    "p(X)*p(Y)"
   ]
  },
  {
   "cell_type": "code",
   "execution_count": 13,
   "metadata": {
    "collapsed": false
   },
   "outputs": [
    {
     "data": {
      "text/plain": [
       "('yields', 'zeros')"
      ]
     },
     "execution_count": 13,
     "metadata": {},
     "output_type": "execute_result"
    }
   ],
   "source": [
    "wordpair"
   ]
  },
  {
   "cell_type": "code",
   "execution_count": 14,
   "metadata": {
    "collapsed": true
   },
   "outputs": [],
   "source": [
    "MI_dict = {}"
   ]
  },
  {
   "cell_type": "code",
   "execution_count": 15,
   "metadata": {
    "collapsed": true
   },
   "outputs": [],
   "source": [
    "def pAB(wp):\n",
    "    return dict_counts[wp]+0.25/(len(all_words)+1)"
   ]
  },
  {
   "cell_type": "code",
   "execution_count": 16,
   "metadata": {
    "collapsed": false
   },
   "outputs": [
    {
     "name": "stderr",
     "output_type": "stream",
     "text": []
    }
   ],
   "source": [
    "for wp in tqdm(dict_counts):\n",
    "    MI_dict[wp] = pAB(wp)*log(pAB(wp)/p(X)*p(Y))"
   ]
  },
  {
   "cell_type": "code",
   "execution_count": 19,
   "metadata": {
    "collapsed": true
   },
   "outputs": [],
   "source": [
    "top10MI = sorted(MI_dict, key=MI_dict.get, reverse=True)[:10]"
   ]
  },
  {
   "cell_type": "code",
   "execution_count": 21,
   "metadata": {
    "collapsed": false
   },
   "outputs": [
    {
     "name": "stdout",
     "output_type": "stream",
     "text": [
      "('january', 'paper'):940.927980129\n",
      "('language', 'programming'):769.65701897\n",
      "('january', 'time'):751.595311055\n",
      "('january', 'program'):745.588016508\n",
      "('january', 'systems'):745.588016508\n",
      "('data', 'january'):703.727458966\n",
      "('january', 'presented'):697.77516131\n",
      "('january', 'programming'):685.891893431\n",
      "('program', 'programs'):650.416450655\n",
      "('january', 'method'):603.53923359\n"
     ]
    }
   ],
   "source": [
    "for i in top10MI:\n",
    "    print str(i) +\":\"+ str(MI_dict[i])"
   ]
  },
  {
   "cell_type": "markdown",
   "metadata": {},
   "source": [
    "('january', 'paper'):181\n",
    "('language', 'programming'):153\n",
    "('january', 'time'):150\n",
    "('january', 'program'):149\n",
    "('january', 'systems'):149\n",
    "('data', 'january'):142\n",
    "('january', 'presented'):141\n",
    "('january', 'programming'):139\n",
    "('program', 'programs'):133\n",
    "('january', 'method'):125"
   ]
  },
  {
   "cell_type": "markdown",
   "metadata": {
    "collapsed": true
   },
   "source": [
    "i)  The top 10 word pairs with the highest mutual information is the same as the top 10 pairs based on the co-occurence counts."
   ]
  },
  {
   "cell_type": "markdown",
   "metadata": {},
   "source": [
    "ii) The top 5 words which have the highest mutual information with the word \"programming\" are: "
   ]
  },
  {
   "cell_type": "code",
   "execution_count": 23,
   "metadata": {
    "collapsed": false
   },
   "outputs": [
    {
     "name": "stdout",
     "output_type": "stream",
     "text": [
      "('language', 'programming'):769.65701897\n",
      "('january', 'programming'):685.891893431\n",
      "('program', 'programming'):586.090583816\n",
      "('paper', 'programming'):562.940801951\n",
      "('languages', 'programming'):545.667210954\n"
     ]
    }
   ],
   "source": [
    "topMIs = sorted(MI_dict, key=MI_dict.get, reverse=True)[:30]\n",
    "for i in topMIs:\n",
    "    if i[0] =='programming' or i[1] =='programming':\n",
    "        print str(i) +\":\"+ str(MI_dict[i])"
   ]
  },
  {
   "cell_type": "markdown",
   "metadata": {},
   "source": [
    "The results are somewhat reasonable, programming language(s), program, programming all have word meaning that makes sense. We saw previously  that january is a common word that appears with many other words, (possibly because this is a subset of articles that have January listed in its publication date), so it is not surprising that january also occur frequently with programming. ('paper', 'programming') is a bit surprising, but maybe the word 'paper' occurs frequently in the same phrase common throughout the collection (e.g. 'Paper published on July 1, 2016', 'Paper accepted to CACM journal' ..etc), so any papers containing the word 'programming' will be counted as co-occurence."
   ]
  }
 ],
 "metadata": {
  "kernelspec": {
   "display_name": "Python 2",
   "language": "python",
   "name": "python2"
  },
  "language_info": {
   "codemirror_mode": {
    "name": "ipython",
    "version": 2
   },
   "file_extension": ".py",
   "mimetype": "text/x-python",
   "name": "python",
   "nbconvert_exporter": "python",
   "pygments_lexer": "ipython2",
   "version": "2.7.10"
  }
 },
 "nbformat": 4,
 "nbformat_minor": 0
}
